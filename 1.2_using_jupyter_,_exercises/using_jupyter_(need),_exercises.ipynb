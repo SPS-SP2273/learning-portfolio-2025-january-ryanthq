{
 "cells": [
  {
   "cell_type": "markdown",
   "id": "123456",
   "metadata": {},
   "source": [
    "<div style=\"text-align:left;font-size:2em\"><span style=\"font-weight:bolder;font-size:1.25em\">SP2273 | Learning Portfolio</span><br><br><span style=\"font-weight:bold;color:darkred\">Using Jupyter (Need), Exercises</span></div>"
   ]
  },
  {
   "cell_type": "markdown",
   "id": "1bc5882d",
   "metadata": {},
   "source": [
    "## 1 Quadratic Equations"
   ]
  },
  {
   "cell_type": "markdown",
   "id": "2998c3e9",
   "metadata": {},
   "source": [
    "### Introduction"
   ]
  },
  {
   "cell_type": "markdown",
   "id": "c0bee2b0",
   "metadata": {},
   "source": [
    "![](https://upload.wikimedia.org/wikipedia/commons/thumb/f/f8/Polynomialdeg2.svg/600px-Polynomialdeg2.svg.png)\n",
    "\n",
    "*(Image from the [Wikipedia page on Quadratic equations](https://en.wikipedia.org/wiki/Quadratic_equation))*\n",
    "\n",
    "The general form of a quadratic equation is:\n",
    "\n",
    "$$\n",
    "ax^2+bx+c=0\n",
    "$$"
   ]
  },
  {
   "cell_type": "markdown",
   "id": "91b15d00",
   "metadata": {},
   "source": [
    "### Solutions"
   ]
  },
  {
   "cell_type": "markdown",
   "id": "d6576fb2",
   "metadata": {},
   "source": [
    "Provided $a \\ne 0$, we can use an elementary algebraic method called [completing the square](https://en.wikipedia.org/wiki/Completing_the_square) to show that a quadratic equation has the following solution:\n",
    "\n",
    "$$\n",
    "x=\\dfrac{-b \\pm \\sqrt{b^2-4ac}}{2a}\n",
    "$$"
   ]
  },
  {
   "cell_type": "markdown",
   "id": "532f74fa",
   "metadata": {},
   "source": [
    "### Discriminant"
   ]
  },
  {
   "cell_type": "markdown",
   "id": "2e507060",
   "metadata": {},
   "source": [
    "The quantity $\\Delta=b^2-4ac$ is called the **discriminant** of the equation and ecides the nature of its solutions . The table below shows the various possibilities.\n",
    "\n",
    "|Discriminant|Roots|\n",
    "|:----------:|:-------------------------:|\n",
    "|$\\Delta=b^2-4ac$|A single solution of $-b/(2a)$ |\n",
    "|$\\Delta\\gt b^2-4ac$|Two distinct solutions |\n",
    "|$\\Delta\\lt b^2-4ac$|No real solutions; both are complex |\n"
   ]
  },
  {
   "cell_type": "markdown",
   "id": "13ac6cd1",
   "metadata": {},
   "source": [
    "## Exercise 2\n",
    "\n",
    "\n",
    "1. Storage space for project files, including version histories in Github\n",
    "1. Changes made\n",
    "1. commit records the changes made at a specific point in time in the repository\n",
    "1. it uploads the local commits on my own computer to Github, allowing instructors to view my uploaded work\n",
    "1. it retrieves the latest changes in Github made by the instructors into my own local repository\n",
    "1. Github is web-based (accessible by web browser) while Desktop is an application locally. Desktop makes it easier to commit, and push and pull easier for local repository.\n"
   ]
  },
  {
   "cell_type": "markdown",
   "id": "88d237a6",
   "metadata": {},
   "source": [
    "## Exercise 3\n",
    "\n",
    "$$\n",
    "\\mu = \\dfrac{1}{n}\\sum_{i=1}^{n}x_i\n",
    "$$\n",
    "$$\n",
    "\\sigma = \\sqrt{\\dfrac{1}{n}\\sum_{i=1}^{n}(x_i - \\mu)^2}\n",
    "$$\n",
    "$$\n",
    "r = \\dfrac{\\sum_{i=1}^{n}(x_i-\\mu_X)(y_i-\\mu_Y)}{\\sqrt{\\sum_{i=1}^{n}(x_i-\\mu _X)^2\\sum_{i=1}^{n}(y_i-\\mu_Y)^2}}\n",
    "$$\n"
   ]
  }
 ],
 "metadata": {
  "kernelspec": {
   "display_name": "Python 3 (ipykernel)",
   "language": "python",
   "name": "python3"
  },
  "language_info": {
   "codemirror_mode": {
    "name": "ipython",
    "version": 3
   },
   "file_extension": ".py",
   "mimetype": "text/x-python",
   "name": "python",
   "nbconvert_exporter": "python",
   "pygments_lexer": "ipython3",
   "version": "3.9.13"
  },
  "toc": {
   "base_numbering": 1,
   "nav_menu": {},
   "number_sections": true,
   "sideBar": true,
   "skip_h1_title": false,
   "title_cell": "Table of Contents",
   "title_sidebar": "Contents",
   "toc_cell": false,
   "toc_position": {},
   "toc_section_display": true,
   "toc_window_display": false
  },
  "vscode": {
   "interpreter": {
    "hash": "31f2aee4e71d21fbe5cf8b01ff0e069b9275f58929596ceb00d14d90e3e16cd6"
   }
  }
 },
 "nbformat": 4,
 "nbformat_minor": 5
}
