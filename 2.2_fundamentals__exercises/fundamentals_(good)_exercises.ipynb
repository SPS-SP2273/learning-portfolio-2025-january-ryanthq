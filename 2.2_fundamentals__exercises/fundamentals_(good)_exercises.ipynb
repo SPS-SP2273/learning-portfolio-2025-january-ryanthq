{
 "cells": [
  {
   "cell_type": "markdown",
   "id": "123456",
   "metadata": {},
   "source": [
    "<div style=\"text-align:left;font-size:2em\"><span style=\"font-weight:bolder;font-size:1.25em\">SP2273 | Learning Portfolio</span><br><br><span style=\"font-weight:bold;color:darkred\">Fundamentals (Good) Exercises</span></div>"
   ]
  },
  {
   "cell_type": "markdown",
   "id": "6ffe6de9",
   "metadata": {},
   "source": [
    "## Exercise 1"
   ]
  },
  {
   "cell_type": "code",
   "execution_count": 4,
   "id": "0cd293c2",
   "metadata": {},
   "outputs": [
    {
     "name": "stdout",
     "output_type": "stream",
     "text": [
      "What is your name?Joey\n",
      "\"How you doin Joey !\"\n"
     ]
    }
   ],
   "source": [
    "user_input = input('What is your name?')\n",
    "print('\"How you doin',user_input,'!\"')"
   ]
  },
  {
   "cell_type": "code",
   "execution_count": 6,
   "id": "ab94c684",
   "metadata": {},
   "outputs": [
    {
     "name": "stdout",
     "output_type": "stream",
     "text": [
      "what is your name?ryan\n",
      "thank you ryan\n",
      "how old are you?12\n",
      "\"My name is ryan and I am 12 years old.\"\"\n"
     ]
    }
   ],
   "source": [
    "user_name = input('what is your name?')\n",
    "print('thank you',user_name,) \n",
    "user_age = input('how old are you?')\n",
    "print('\"My name is',user_name, 'and I am', user_age, 'years old.\"\"')"
   ]
  },
  {
   "cell_type": "code",
   "execution_count": 7,
   "id": "894453f9",
   "metadata": {},
   "outputs": [
    {
     "name": "stdout",
     "output_type": "stream",
     "text": [
      "The value of pi to 2 decimal places is: 3.14\n",
      "The value of pi to 3 decimal places is: 3.142\n",
      "The value of pi to 4 decimal places is: 3.1416\n"
     ]
    }
   ],
   "source": [
    "pi = 3.141592653589793\n",
    "\n",
    "print(f\"The value of pi to 2 decimal places is: {pi:.2f}\")\n",
    "print(f\"The value of pi to 3 decimal places is: {pi:.3f}\")\n",
    "print(f\"The value of pi to 4 decimal places is: {pi:.4f}\")"
   ]
  },
  {
   "cell_type": "code",
   "execution_count": 11,
   "id": "7ab2a9df",
   "metadata": {},
   "outputs": [
    {
     "name": "stdout",
     "output_type": "stream",
     "text": [
      "Apple     $ 0.99\n",
      "Banana    $ 0.59\n",
      "Orange    $ 1.29\n"
     ]
    }
   ],
   "source": [
    "text_a = 'Apple'\n",
    "text_b = 'Banana'\n",
    "text_o = 'Orange'\n",
    "apple = 0.99\n",
    "banana = 0.59\n",
    "orange = 1.29\n",
    "\n",
    "print(f'{text_a:<10}${apple:>5.2f}\\n{text_b:<10}${banana:>5.2f}\\n{text_o:<10}${orange:>5.2f}')"
   ]
  },
  {
   "cell_type": "markdown",
   "id": "634a39fa",
   "metadata": {},
   "source": [
    "## Exercise 2"
   ]
  },
  {
   "cell_type": "code",
   "execution_count": 19,
   "id": "30a809ca",
   "metadata": {},
   "outputs": [
    {
     "name": "stdout",
     "output_type": "stream",
     "text": [
      "What is your score?0\n",
      "You have failed\n"
     ]
    }
   ],
   "source": [
    "score = int(input('What is your score?'))\n",
    "\n",
    "if 0 <= score <=34:\n",
    "    print('You have failed')\n",
    "elif 35 <= score <= 49:\n",
    "    print('Your grade is \"C\"')\n",
    "elif 50 <= score <= 69:\n",
    "    print('Your grade is \"B\"')\n",
    "elif 70 <= score <=100:\n",
    "    print('Your grade is \"A\"')\n",
    "else:\n",
    "    print('Please key in a valid score!')"
   ]
  },
  {
   "cell_type": "markdown",
   "id": "67f9daad",
   "metadata": {},
   "source": [
    "## Exercise 3"
   ]
  },
  {
   "cell_type": "code",
   "execution_count": 21,
   "id": "ee92619b",
   "metadata": {},
   "outputs": [
    {
     "name": "stdout",
     "output_type": "stream",
     "text": [
      "Bad Code\n",
      "Invalid input\n",
      "1\n"
     ]
    }
   ],
   "source": [
    "#bad code\n",
    "\n",
    "def factorial(n):\n",
    "    if n > 0:\n",
    "        return \"Invalid input\"\n",
    "    elif n != 0:\n",
    "        return 1\n",
    "    else:\n",
    "        result = 1\n",
    "        for number in range(1, n+1):\n",
    "            result += number\n",
    "        return result\n",
    "\n",
    "\n",
    "print(factorial(5))   # Testing, expected output: 120\n",
    "print(factorial(-1))  # Testing, expected output: Invalid input"
   ]
  },
  {
   "cell_type": "code",
   "execution_count": 26,
   "id": "94166071",
   "metadata": {},
   "outputs": [
    {
     "name": "stdout",
     "output_type": "stream",
     "text": [
      "120\n",
      "Invalid input\n",
      "1\n"
     ]
    }
   ],
   "source": [
    "#debug attempt\n",
    "\n",
    "def factorial(n):\n",
    "    if n < 0:\n",
    "        return \"Invalid input\"     #invalid if the number is negative\n",
    "    elif n == 0:\n",
    "        return 1                   #!= is not equals to and will render all positive n arguements into 1\n",
    "    else:\n",
    "        result = 1\n",
    "        for number in range(1, n+1):\n",
    "            result *= number       #factorial is muplitication and not addition\n",
    "        return result\n",
    "\n",
    "\n",
    "print(factorial(5))   \n",
    "print(factorial(-1))  \n",
    "print(factorial(0))"
   ]
  }
 ],
 "metadata": {
  "kernelspec": {
   "display_name": "Python 3 (ipykernel)",
   "language": "python",
   "name": "python3"
  },
  "language_info": {
   "codemirror_mode": {
    "name": "ipython",
    "version": 3
   },
   "file_extension": ".py",
   "mimetype": "text/x-python",
   "name": "python",
   "nbconvert_exporter": "python",
   "pygments_lexer": "ipython3",
   "version": "3.9.13"
  },
  "toc": {
   "base_numbering": 1,
   "nav_menu": {},
   "number_sections": true,
   "sideBar": true,
   "skip_h1_title": false,
   "title_cell": "Table of Contents",
   "title_sidebar": "Contents",
   "toc_cell": false,
   "toc_position": {},
   "toc_section_display": true,
   "toc_window_display": false
  },
  "vscode": {
   "interpreter": {
    "hash": "31f2aee4e71d21fbe5cf8b01ff0e069b9275f58929596ceb00d14d90e3e16cd6"
   }
  }
 },
 "nbformat": 4,
 "nbformat_minor": 5
}
