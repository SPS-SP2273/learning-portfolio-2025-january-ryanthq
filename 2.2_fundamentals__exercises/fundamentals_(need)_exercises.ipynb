{
 "cells": [
  {
   "cell_type": "markdown",
   "id": "123456",
   "metadata": {},
   "source": [
    "<div style=\"text-align:left;font-size:2em\"><span style=\"font-weight:bolder;font-size:1.25em\">SP2273 | Learning Portfolio</span><br><br><span style=\"font-weight:bold;color:darkred\">Fundamentals (Need) Exercises</span></div>"
   ]
  },
  {
   "cell_type": "markdown",
   "id": "78b36bf9",
   "metadata": {},
   "source": [
    "## Exercise 1"
   ]
  },
  {
   "cell_type": "markdown",
   "id": "46b75771",
   "metadata": {},
   "source": [
    "1.Functions does a specific task and can also be altered. \n",
    "1.Functions are always followed by parantheses, but do not always require arguments.\n",
    "1.different brackets have different uses, () are for functions and math, [] for lists,{} for dictionaries.\n",
    "1.python is case-sensitive.\n",
    "1.python can remember imported packages till restarted.\n",
    "1.\".\" dedicate ownership of the function to the package pre-fixing the function.\n",
    "\n",
    "* *not altered but functions can be defined ourselves.*\n",
    "* *python interpreter works sequentially, one command at a time.*\n",
    "* *comments (indicated by # till the end of the line) are ignored by python, can also be written by printing words.*\n",
    "* *=$\\ne$==. = sets something to equal, == is used to check if something is equal.*\n",
    "* *decisions by using if and else*\n",
    "* *indentations cannot be used indiscriminately and ':' is used to designate blocks of code (which i am assuming are usually indented thereafter)*\n",
    "* *usage of '' for english while the word itself can be a variable that holds information*"
   ]
  },
  {
   "cell_type": "markdown",
   "id": "a7e9ca55",
   "metadata": {},
   "source": [
    "## Exercise 2"
   ]
  },
  {
   "cell_type": "markdown",
   "id": "14e8f1ac",
   "metadata": {},
   "source": [
    "**Wrong Code**\n",
    "\n",
    "x, y = 3, 4\n",
    "        z = sqrt(x*2 + y**2)\n",
    "    Print(x, y, z)"
   ]
  },
  {
   "cell_type": "code",
   "execution_count": 16,
   "id": "caf4188f",
   "metadata": {},
   "outputs": [
    {
     "name": "stdout",
     "output_type": "stream",
     "text": [
      "Corrections\n",
      "3 4 5.0\n"
     ]
    }
   ],
   "source": [
    "print('Corrections')\n",
    "\n",
    "import math #first correction, importing package\n",
    "x, y = 3, 4\n",
    "z = math.sqrt(x**2 + y**2) #second correction, ** is the correct math function not *\n",
    "print(x, y, z) #third correction print is lowercased, fourth is that indentations are all removed"
   ]
  },
  {
   "cell_type": "markdown",
   "id": "87bf9374",
   "metadata": {},
   "source": [
    "## Exercise 3"
   ]
  },
  {
   "cell_type": "markdown",
   "id": "e5e97c26",
   "metadata": {},
   "source": [
    "|# |Term |Description |\n",
    "|:-|:---:|:-----------:|\n",
    "|1 |Function |A prefix that does a specific task. |\n",
    "|2 |Arguments |The factor that is passed through to the function. |\n",
    "|3 |Comments |A line of words (not variable) that is ignored by Python when the code is ran|\n",
    "|4 |Indentations |Used to designate lines of code. |\n",
    "|5 |Packages | Modules that increase the capability of functions. |\n",
    "|6 |. | To designate ownership of function. |\n",
    "|7 |: | For dictionary keys and indented code block definitions. |\n",
    "|8 |[] |For single row lists.] |\n",
    "|9 |[[],[]]\t| For arrays, aka lists in lists. |\n",
    "|10 |{} | To store data in dictionaries, also used in markdown mathematic equations. |"
   ]
  },
  {
   "cell_type": "markdown",
   "id": "c69e1cf3",
   "metadata": {},
   "source": [
    "## Exercise 4\n"
   ]
  },
  {
   "cell_type": "code",
   "execution_count": 22,
   "id": "ca3e2a90",
   "metadata": {},
   "outputs": [
    {
     "data": {
      "text/plain": [
       "1"
      ]
     },
     "execution_count": 22,
     "metadata": {},
     "output_type": "execute_result"
    }
   ],
   "source": [
    "5/2           # Divides and shows true value\n",
    "5//2          # Divides and shows value without decimals (whole number)\n",
    "5%2           # Dvides and shows the remainder undivided"
   ]
  }
 ],
 "metadata": {
  "kernelspec": {
   "display_name": "Python 3 (ipykernel)",
   "language": "python",
   "name": "python3"
  },
  "language_info": {
   "codemirror_mode": {
    "name": "ipython",
    "version": 3
   },
   "file_extension": ".py",
   "mimetype": "text/x-python",
   "name": "python",
   "nbconvert_exporter": "python",
   "pygments_lexer": "ipython3",
   "version": "3.9.13"
  },
  "toc": {
   "base_numbering": 1,
   "nav_menu": {},
   "number_sections": true,
   "sideBar": true,
   "skip_h1_title": false,
   "title_cell": "Table of Contents",
   "title_sidebar": "Contents",
   "toc_cell": false,
   "toc_position": {},
   "toc_section_display": true,
   "toc_window_display": false
  },
  "vscode": {
   "interpreter": {
    "hash": "31f2aee4e71d21fbe5cf8b01ff0e069b9275f58929596ceb00d14d90e3e16cd6"
   }
  }
 },
 "nbformat": 4,
 "nbformat_minor": 5
}
