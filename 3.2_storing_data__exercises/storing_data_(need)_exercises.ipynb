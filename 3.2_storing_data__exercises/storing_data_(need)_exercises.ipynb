{
 "cells": [
  {
   "cell_type": "markdown",
   "id": "123456",
   "metadata": {},
   "source": [
    "<div style=\"text-align:left;font-size:2em\"><span style=\"font-weight:bolder;font-size:1.25em\">SP2273 | Learning Portfolio</span><br><br><span style=\"font-weight:bold;color:darkred\">Storing Data (Need) Exercises</span></div>"
   ]
  },
  {
   "cell_type": "code",
   "execution_count": 1,
   "id": "b3a37f1d",
   "metadata": {},
   "outputs": [],
   "source": [
    "import numpy as np"
   ]
  },
  {
   "cell_type": "markdown",
   "id": "220de154",
   "metadata": {},
   "source": [
    "## Exercise 1"
   ]
  },
  {
   "cell_type": "markdown",
   "id": "b373adfa",
   "metadata": {},
   "source": [
    "Similarities\n",
    "1. both are 2d\n",
    "1. both are zero-indexed\n",
    "\n",
    "Differences\n",
    "1. lists can hold different data types while arrays have to be a single type\n",
    "1. items in arrays can be mathematically altered whereas lists items will just be added onto the list itself with no mathematical alteration.\n",
    "\n",
    "What is a dictionary?\n",
    "A 2d data storage with keys tagged to specific values, dictionaries also use {} rather than [].\n",
    "\n",
    "footnote: not sure if i was supposed to list out everything else other than the 2 i have lsited for each question"
   ]
  },
  {
   "cell_type": "markdown",
   "id": "ee046dae",
   "metadata": {},
   "source": [
    "## Exercise 2"
   ]
  },
  {
   "cell_type": "code",
   "execution_count": 106,
   "id": "bf86a665",
   "metadata": {},
   "outputs": [
    {
     "name": "stdout",
     "output_type": "stream",
     "text": [
      "a1\n",
      "c3\n",
      "e5\n",
      "g7\n",
      "i9\n",
      "\n",
      "\n",
      "a1\n",
      "c3\n",
      "e5\n",
      "g7\n",
      "i9\n",
      "\n",
      "\n",
      "['a1', 'c3', 'e5', 'g7', 'i9']\n"
     ]
    }
   ],
   "source": [
    "py_list = [\"a1\", \"b2\", \"c3\", \"d4\", \"e5\", \"f6\", \"g7\", \"h8\", \"i9\", \"j10\"]\n",
    "                    # Prints 'a1'\n",
    "                    # Prints 'c3'\n",
    "                    # Prints 'e5'\n",
    "                    # Prints 'g7'\n",
    "                # Prints 'i9'\n",
    "\n",
    "for item in py_list:\n",
    "    if int(item[-1]) % 2 != 0:\n",
    "        print(item)\n",
    "print('\\n')\n",
    "for i in range(len(py_list)):\n",
    "    if i % 2 == 0:\n",
    "        print(py_list[i])         #just testing something else\n",
    "print('\\n')\n",
    "print(py_list[0:10:2])\n"
   ]
  },
  {
   "cell_type": "markdown",
   "id": "46104b4b",
   "metadata": {},
   "source": [
    "## Exercise 3"
   ]
  },
  {
   "cell_type": "code",
   "execution_count": 33,
   "id": "baaa6f70",
   "metadata": {},
   "outputs": [
    {
     "name": "stdout",
     "output_type": "stream",
     "text": [
      "Boron\n",
      "Boron\n"
     ]
    }
   ],
   "source": [
    "elements = ['Hydrogen',\n",
    "            'Helium', 'Lithium',\n",
    "            'Beryllium', 'Boron', 'Carbon',\n",
    "            'Nitrogen', 'Oxygen',\n",
    "            'Fluorine',\n",
    "            'Neon']\n",
    "\n",
    "print(elements[4])\n",
    "print(elements[-6])"
   ]
  },
  {
   "cell_type": "markdown",
   "id": "910f0d7f",
   "metadata": {},
   "source": [
    "## Exercise 4"
   ]
  },
  {
   "cell_type": "code",
   "execution_count": 44,
   "id": "a24cb3fd",
   "metadata": {},
   "outputs": [
    {
     "data": {
      "text/plain": [
       "9"
      ]
     },
     "execution_count": 44,
     "metadata": {},
     "output_type": "execute_result"
    }
   ],
   "source": [
    "numbers=[45, 60, 1, 30, 96, 1, 96, 57, 16, 1,\n",
    "        99, 62, 86, 43, 42, 60, 59, 1, 1, 35,\n",
    "        83, 47, 34, 28, 68, 23, 22, 92, 1, 79,\n",
    "        1, 29, 94, 72, 46, 47, 1, 74, 32, 20,\n",
    "        8, 37, 35, 1, 89, 29, 86, 19, 43, 61]                  \n",
    "np_numbers = np.array(numbers)\n",
    "sum(np_numbers == 1)"
   ]
  },
  {
   "cell_type": "markdown",
   "id": "9580e8ed",
   "metadata": {},
   "source": [
    "## Exercise 5"
   ]
  },
  {
   "cell_type": "code",
   "execution_count": 104,
   "id": "4020faa6",
   "metadata": {},
   "outputs": [
    {
     "name": "stdout",
     "output_type": "stream",
     "text": [
      "Mean of x_1 = 38.5\n",
      "Mean of x_2 = 302.5\n",
      "Standard Deviation of x_1 = 32.41990129534635\n",
      "Standard Deviation of x_2 = 326.0893282522444\n",
      "r = 0.9871796626270701\n"
     ]
    },
    {
     "data": {
      "text/plain": [
       "0.9871796626270701"
      ]
     },
     "execution_count": 104,
     "metadata": {},
     "output_type": "execute_result"
    }
   ],
   "source": [
    "x_1 = [1, 4, 9, 16, 25, 36, 49, 64, 81, 100]\n",
    "x_2 = [1, 8, 27, 64, 125, 216, 343, 512, 729, 1000]\n",
    "np_x_1 = np.array(x_1)\n",
    "np_x_2 = np.array(x_2)\n",
    "\n",
    "m_x_1 = np_x_1.mean()\n",
    "print(f'Mean of x_1 = {m_x_1}')\n",
    "m_x_2 = np_x_2.mean()\n",
    "print(f'Mean of x_2 = {(m_x_2)}')\n",
    "std_x_1 = np_x_1.std()\n",
    "print(f'Standard Deviation of x_1 = {std_x_1}')\n",
    "std_x_2 = np_x_2.std()\n",
    "print(f'Standard Deviation of x_2 = {std_x_2}')\n",
    "\n",
    "top_r = (x_1 - m_x_1) * (x_2 - m_x_2)\n",
    "bottom_r = np.sum((x_1 - m_x_1)**2) * np.sum((x_2 - m_x_2)**2)\n",
    "r = np.sum(top_r) / np.sqrt(bottom_r)\n",
    "print(f'r = {r}')\n",
    "\n",
    "np.corrcoef(x_1,x_2)[0][1]\n",
    "\n",
    "#it is the same"
   ]
  }
 ],
 "metadata": {
  "kernelspec": {
   "display_name": "Python 3 (ipykernel)",
   "language": "python",
   "name": "python3"
  },
  "language_info": {
   "codemirror_mode": {
    "name": "ipython",
    "version": 3
   },
   "file_extension": ".py",
   "mimetype": "text/x-python",
   "name": "python",
   "nbconvert_exporter": "python",
   "pygments_lexer": "ipython3",
   "version": "3.9.13"
  },
  "toc": {
   "base_numbering": 1,
   "nav_menu": {},
   "number_sections": true,
   "sideBar": true,
   "skip_h1_title": false,
   "title_cell": "Table of Contents",
   "title_sidebar": "Contents",
   "toc_cell": false,
   "toc_position": {},
   "toc_section_display": true,
   "toc_window_display": false
  },
  "vscode": {
   "interpreter": {
    "hash": "31f2aee4e71d21fbe5cf8b01ff0e069b9275f58929596ceb00d14d90e3e16cd6"
   }
  }
 },
 "nbformat": 4,
 "nbformat_minor": 5
}
