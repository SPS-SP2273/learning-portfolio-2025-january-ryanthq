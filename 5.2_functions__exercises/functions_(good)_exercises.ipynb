{
 "cells": [
  {
   "cell_type": "markdown",
   "id": "123456",
   "metadata": {},
   "source": [
    "<div style=\"text-align:left;font-size:2em\"><span style=\"font-weight:bolder;font-size:1.25em\">SP2273 | Learning Portfolio</span><br><br><span style=\"font-weight:bold;color:darkred\">Functions (Good) Exercises</span></div>"
   ]
  },
  {
   "cell_type": "markdown",
   "id": "348f0231",
   "metadata": {},
   "source": [
    "## Exercise 1"
   ]
  },
  {
   "cell_type": "code",
   "execution_count": 14,
   "id": "957865bb",
   "metadata": {},
   "outputs": [
    {
     "data": {
      "text/plain": [
       "'32.0 F'"
      ]
     },
     "execution_count": 14,
     "metadata": {},
     "output_type": "execute_result"
    }
   ],
   "source": [
    "def convert_celsius(temperature_celsius, target_scale):\n",
    "    if target_scale == 'Kelvin':\n",
    "        temperature_celsius += 273.15\n",
    "        return f' {temperature_celsius}K'\n",
    "    temperature_f = (9 / 5 * temperature_celsius) + 32\n",
    "    return f'{temperature_f} F'\n",
    "\n",
    "convert_celsius(0,9)"
   ]
  },
  {
   "cell_type": "markdown",
   "id": "58bc74fa",
   "metadata": {},
   "source": [
    "## Exercise 2"
   ]
  },
  {
   "cell_type": "code",
   "execution_count": 39,
   "id": "72364006",
   "metadata": {},
   "outputs": [
    {
     "data": {
      "text/plain": [
       "'37.77777777777778C'"
      ]
     },
     "execution_count": 39,
     "metadata": {},
     "output_type": "execute_result"
    }
   ],
   "source": [
    "def convert_fahrenheit(temperature_fahrenheit, target_scale):\n",
    "    if target_scale == 'Kelvin':\n",
    "        temperature_kelvin = (temperature_fahrenheit - 32)/1.8 + 273.15\n",
    "        return f'{temperature_kelvin}K'\n",
    "    temperature_celsius = (temperature_fahrenheit - 32)/1.8\n",
    "    return f'{temperature_celsius}C'\n",
    "\n",
    "convert_fahrenheit(100,'Kelv')"
   ]
  },
  {
   "cell_type": "markdown",
   "id": "69316274",
   "metadata": {},
   "source": [
    "## Exercise 3"
   ]
  },
  {
   "cell_type": "code",
   "execution_count": 52,
   "id": "33779fc8",
   "metadata": {},
   "outputs": [
    {
     "data": {
      "text/plain": [
       "'100Kelvin'"
      ]
     },
     "execution_count": 52,
     "metadata": {},
     "output_type": "execute_result"
    }
   ],
   "source": [
    "def convert_kelvin(temperature_kelvin, target_scale):\n",
    "    if target_scale == 'Celsius':\n",
    "        temperature_kelvin -= 273.15\n",
    "        return f' {temperature_kelvin}C'\n",
    "    temperature_fahrenheit = (temperature_kelvin - 273.15) / 1.8 +32\n",
    "    return f'{temperature_fahrenheit} F'\n",
    "\n",
    "def convert_temperature(temperature, source_scale, target_scale):\n",
    "    if source_scale == target_scale:\n",
    "        return f'{temperature}{source_scale}'\n",
    "    if source_scale == 'Celsius':\n",
    "        return convert_celsius(temperature, target_scale)\n",
    "    if source_scale == 'Fahrenheit':\n",
    "        return convert_fahrenheit(temperature, target_scale)\n",
    "    if source_scale == 'Kelvin':\n",
    "        return convert_kelvin(temperature, target_scale)\n",
    "        \n",
    "convert_temperature(100,'Kelvin', 'Kelvin')\n",
    "        "
   ]
  }
 ],
 "metadata": {
  "kernelspec": {
   "display_name": "Python 3 (ipykernel)",
   "language": "python",
   "name": "python3"
  },
  "language_info": {
   "codemirror_mode": {
    "name": "ipython",
    "version": 3
   },
   "file_extension": ".py",
   "mimetype": "text/x-python",
   "name": "python",
   "nbconvert_exporter": "python",
   "pygments_lexer": "ipython3",
   "version": "3.9.13"
  },
  "toc": {
   "base_numbering": 1,
   "nav_menu": {},
   "number_sections": true,
   "sideBar": true,
   "skip_h1_title": false,
   "title_cell": "Table of Contents",
   "title_sidebar": "Contents",
   "toc_cell": false,
   "toc_position": {},
   "toc_section_display": true,
   "toc_window_display": false
  },
  "vscode": {
   "interpreter": {
    "hash": "31f2aee4e71d21fbe5cf8b01ff0e069b9275f58929596ceb00d14d90e3e16cd6"
   }
  }
 },
 "nbformat": 4,
 "nbformat_minor": 5
}
