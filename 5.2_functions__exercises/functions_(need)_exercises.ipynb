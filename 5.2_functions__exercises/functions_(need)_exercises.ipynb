{
 "cells": [
  {
   "cell_type": "markdown",
   "id": "123456",
   "metadata": {},
   "source": [
    "<div style=\"text-align:left;font-size:2em\"><span style=\"font-weight:bolder;font-size:1.25em\">SP2273 | Learning Portfolio</span><br><br><span style=\"font-weight:bold;color:darkred\">Functions (Need) Exercises</span></div>"
   ]
  },
  {
   "cell_type": "markdown",
   "id": "881e8794",
   "metadata": {},
   "source": [
    "## Exercise 1\n"
   ]
  },
  {
   "cell_type": "markdown",
   "id": "ac12defd",
   "metadata": {},
   "source": [
    "This is because of the indentation. when the argument is inputted, it runs through in order if it returns speciifally 'Batman', it flows to the next indented line as it passed the if (is true). But if anything else gets entered, the if statement will deem it false and it will flow to the next line of the same indentation, bypassing the first return function. Hence hitting the basic return of hello name with no nice to meet you."
   ]
  },
  {
   "cell_type": "markdown",
   "id": "15d69a51",
   "metadata": {},
   "source": [
    "## Exercise 2"
   ]
  },
  {
   "cell_type": "code",
   "execution_count": 13,
   "id": "fa544c83",
   "metadata": {},
   "outputs": [
    {
     "data": {
      "text/plain": [
       "'Your BMI is 22.321428571428577 and you are Normal Weight'"
      ]
     },
     "execution_count": 13,
     "metadata": {},
     "output_type": "execute_result"
    }
   ],
   "source": [
    "def calculate_bmi(weight,height):\n",
    "    bmi = weight / (height ** 2)\n",
    "    if bmi >= 30:\n",
    "        return f'Your BMI is {bmi} and you are Obese'\n",
    "    elif 30>bmi>=25:\n",
    "        return f'Your BMI is {bmi} and you are Overweight'\n",
    "    elif 25>bmi>=18.5:\n",
    "        return f'Your BMI is {bmi} and you are Normal Weight'\n",
    "    return f'Your BMI is {bmi} and you are Underweight'\n",
    "\n",
    "calculate_bmi(63,1.68)"
   ]
  },
  {
   "cell_type": "markdown",
   "id": "dbca8fad",
   "metadata": {},
   "source": [
    "## Exercise 3"
   ]
  },
  {
   "cell_type": "code",
   "execution_count": 17,
   "id": "bcb4c51d",
   "metadata": {},
   "outputs": [
    {
     "data": {
      "text/plain": [
       "'The factorial of 7 is 5040'"
      ]
     },
     "execution_count": 17,
     "metadata": {},
     "output_type": "execute_result"
    }
   ],
   "source": [
    "def factorial(n):\n",
    "    if n<0:\n",
    "        return f'Invalid input'\n",
    "    elif n == 0:\n",
    "        return f'The factorial of {n} is 1'\n",
    "    else:\n",
    "        fact = 1\n",
    "        for integer in range(1,n+1):\n",
    "            fact *= integer\n",
    "        return f'The factorial of {n} is {fact}'\n",
    "        \n",
    "factorial(7)"
   ]
  }
 ],
 "metadata": {
  "kernelspec": {
   "display_name": "Python 3 (ipykernel)",
   "language": "python",
   "name": "python3"
  },
  "language_info": {
   "codemirror_mode": {
    "name": "ipython",
    "version": 3
   },
   "file_extension": ".py",
   "mimetype": "text/x-python",
   "name": "python",
   "nbconvert_exporter": "python",
   "pygments_lexer": "ipython3",
   "version": "3.9.13"
  },
  "toc": {
   "base_numbering": 1,
   "nav_menu": {},
   "number_sections": true,
   "sideBar": true,
   "skip_h1_title": false,
   "title_cell": "Table of Contents",
   "title_sidebar": "Contents",
   "toc_cell": false,
   "toc_position": {},
   "toc_section_display": true,
   "toc_window_display": false
  },
  "vscode": {
   "interpreter": {
    "hash": "31f2aee4e71d21fbe5cf8b01ff0e069b9275f58929596ceb00d14d90e3e16cd6"
   }
  }
 },
 "nbformat": 4,
 "nbformat_minor": 5
}
